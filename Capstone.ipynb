{
 "cells": [
  {
   "cell_type": "markdown",
   "metadata": {},
   "source": [
    "# Code for loading and modifying datasets"
   ]
  },
  {
   "cell_type": "code",
   "execution_count": 1,
   "metadata": {},
   "outputs": [],
   "source": [
    "# Utilities\n",
    "from tqdm import tqdm_notebook as tqdm\n",
    "import os\n",
    "import pdb\n",
    "import glob\n",
    "\n",
    "# Numerical\n",
    "import numpy as np\n",
    "import pandas as pd\n",
    "import matplotlib.pyplot as plt\n",
    "\n",
    "# Preprocessing / Filtering\n",
    "from scipy.ndimage import gaussian_filter1d\n",
    "\n",
    "# Unsupervised learning: https://scikit-learn.org/stable/unsupervised_learning.html\n",
    "from sklearn.decomposition import PCA\n",
    "from sklearn.cluster import KMeans\n",
    "from sklearn.preprocessing import normalize\n",
    "from sklearn.mixture import GaussianMixture\n",
    "\n",
    "# My Utilities\n",
    "import pulseoxLoader as loader\n",
    "\n",
    "# Plots\n",
    "%matplotlib notebook"
   ]
  },
  {
   "cell_type": "code",
   "execution_count": 2,
   "metadata": {},
   "outputs": [
    {
     "name": "stdout",
     "output_type": "stream",
     "text": [
      "OSCAR_allen_Details_2019-10-08.3.csv\n",
      "OSCAR_allen_Details_2019-10-24.csv\n",
      "OSCAR_allen_Details_2019-10-26.csv\n",
      "OSCAR_allen_Details_2019-11-14.csv\n",
      "OSCAR_allen_Details_2019-11-14_11-15_2_sessions.csv\n"
     ]
    }
   ],
   "source": [
    "data_path = \"C:/Users/allen/Documents/OSCAR_Data-pulseox-data\"\n",
    "# print(os.listdir(data_path))\n",
    "csv_path = os.path.join(data_path, '*.csv')\n",
    "oxdata = loader.OxData(csv_path)\n",
    "for file in glob.glob(csv_path):\n",
    "    print(os.path.split(file)[-1])\n",
    "example = os.path.join(data_path, 'OSCAR_allen_Details_2019-10-24.csv')"
   ]
  },
  {
   "cell_type": "code",
   "execution_count": 3,
   "metadata": {},
   "outputs": [
    {
     "data": {
      "image/png": "[encoded data removed]",
      "text/plain": [
       "<Figure size 432x288 with 1 Axes>"
      ]
     },
     "metadata": {
      "needs_background": "light"
     },
     "output_type": "display_data"
    }
   ],
   "source": [
    "sp02, pulse, start_time = oxdata.day_to_df(example)\n",
    "# print(sp02.head(2))\n",
    "# print(pulse.head(2))\n",
    "# print(start_time)\n",
    "plt.clf()\n",
    "plt.plot(sp02['DateTime'].values, sp02['Data/Duration'].values)\n",
    "plt.plot(pulse['DateTime'].values, pulse['Data/Duration'].values)\n",
    "plt.xlim(20, 1000)\n",
    "plt.savefig(os.path.split(example)[-1] + '.png')\n",
    "# 74720 time units for 32 minutes\n"
   ]
  },
  {
   "cell_type": "code",
   "execution_count": 4,
   "metadata": {},
   "outputs": [
    {
     "data": {
      "image/png": "[encoded data removed]",
      "text/plain": [
       "<Figure size 432x288 with 1 Axes>"
      ]
     },
     "metadata": {
      "needs_background": "light"
     },
     "output_type": "display_data"
    }
   ],
   "source": [
    "# Pre Processing for the FFT\n",
    "wave = oxdata.preproc_df_fft(sp02, smoothing='gaussian', sigma=1, plot=True)\n"
   ]
  },
  {
   "cell_type": "code",
   "execution_count": 5,
   "metadata": {},
   "outputs": [
    {
     "name": "stdout",
     "output_type": "stream",
     "text": [
      "(72, 1024)\n"
     ]
    }
   ],
   "source": [
    "result = oxdata.gen_fft(wave, 1024)\n",
    "print(result.shape)\n",
    "magnitudes, angles = result[:,:result.shape[1]//2], result[:,result.shape[1]//2:]\n",
    "idx = 70\n",
    "# smoothing = 3\n",
    "# moving_avg(magnitudes[idx], smoothing)\n",
    "# moving_avg(angles[idx], smoothing)"
   ]
  },
  {
   "cell_type": "code",
   "execution_count": 6,
   "metadata": {},
   "outputs": [
    {
     "ename": "NameError",
     "evalue": "name 'plot_fft' is not defined",
     "output_type": "error",
     "traceback": [
      "\u001b[1;31m---------------------------------------------------------------------------\u001b[0m",
      "\u001b[1;31mNameError\u001b[0m                                 Traceback (most recent call last)",
      "\u001b[1;32m<ipython-input-6-1d11aa0a0abb>\u001b[0m in \u001b[0;36m<module>\u001b[1;34m\u001b[0m\n\u001b[1;32m----> 1\u001b[1;33m \u001b[0mplot_fft\u001b[0m\u001b[1;33m(\u001b[0m\u001b[0mmagnitudes\u001b[0m\u001b[1;33m[\u001b[0m\u001b[0midx\u001b[0m\u001b[1;33m]\u001b[0m\u001b[1;33m,\u001b[0m \u001b[0mangles\u001b[0m\u001b[1;33m[\u001b[0m\u001b[0midx\u001b[0m\u001b[1;33m]\u001b[0m\u001b[1;33m,\u001b[0m \u001b[0moffset\u001b[0m\u001b[1;33m=\u001b[0m\u001b[1;36m1\u001b[0m\u001b[1;33m)\u001b[0m\u001b[1;33m\u001b[0m\u001b[1;33m\u001b[0m\u001b[0m\n\u001b[0m",
      "\u001b[1;31mNameError\u001b[0m: name 'plot_fft' is not defined"
     ]
    }
   ],
   "source": [
    "oxdata.plot_fft(magnitudes[idx], angles[idx], offset=1)"
   ]
  },
  {
   "cell_type": "code",
   "execution_count": null,
   "metadata": {},
   "outputs": [],
   "source": [
    "# Normalize the data for each feature\n",
    "X = normalize(result)\n",
    "# Use PCA to reduce dimensionality of data. TODO: Investigate why samples were being dropped\n",
    "# # reduce to number of samples, inc number of samples by shrinking windows\n",
    "# pca = PCA(n_components=0.99, svd_solver='full') \n",
    "# pca.fit(X)\n",
    "# print(pca.n_components_)\n",
    "# Xn = pca.components_\n",
    "# print(Xn.shape)\n",
    "kmeans = KMeans(n_clusters=3) # TODO: Plot inertia vs number of clusters, and find 'elbow'\n",
    "kmeans_pred = kmeans.fit_predict(X)\n",
    "print(\"Inertia: {}\".format(kmeans.inertia_))\n",
    "# print(\"Cluster Centers: {}\".format(kmeans.cluster_centers_))\n",
    "print(kmeans.labels_)\n",
    "print(kmeans_pred)\n",
    "# mixture = GaussianMixture(n_components=3) #Output of GMM looks worse than kmeans for our application\n",
    "# labels = mixture.fit_predict(X)\n",
    "# # print(dir(mixture))\n"
   ]
  },
  {
   "cell_type": "code",
   "execution_count": null,
   "metadata": {},
   "outputs": [],
   "source": [
    "print(labels)"
   ]
  }
 ],
 "metadata": {
  "kernelspec": {
   "display_name": "Python 3",
   "language": "python",
   "name": "python3"
  },
  "language_info": {
   "codemirror_mode": {
    "name": "ipython",
    "version": 3
   },
   "file_extension": ".py",
   "mimetype": "text/x-python",
   "name": "python",
   "nbconvert_exporter": "python",
   "pygments_lexer": "ipython3",
   "version": "3.7.1"
  }
 },
 "nbformat": 4,
 "nbformat_minor": 2
}
