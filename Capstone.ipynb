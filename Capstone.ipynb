{
 "cells": [
  {
   "cell_type": "markdown",
   "execution_count": null,
   "metadata": {},
   "outputs": [],
   "source": [
    "# Code for loading and modifying datasets"
   ]
  },
  {
   "cell_type": "code",
   "execution_count": 2,
   "metadata": {},
   "outputs": [],
   "source": [
    "# Utilities\n",
    "from tqdm import tqdm_notebook as tqdm\n",
    "import os\n",
    "import pdb\n",
    "import glob\n",
    "\n",
    "# Numerical\n",
    "import numpy as np\n",
    "import pandas as pd\n",
    "import matplotlib.pyplot as plt\n",
    "\n",
    "# Machine Learning (Q1)\n",
    "from sklearn.linear_model import Ridge as Ridge\n",
    "from sklearn.linear_model import LinearRegression as OLS\n",
    "from sklearn.metrics import mean_squared_error as mse\n",
    "\n",
    "# Machine Learning (Q2)\n",
    "from sklearn.linear_model import SGDClassifier as SGD\n",
    "from sklearn.linear_model import LogisticRegression as LR # \n",
    "\n",
    "# Plots\n",
    "%matplotlib notebook"
   ]
  },
  {
   "cell_type": "code",
   "execution_count": 7,
   "metadata": {},
   "outputs": [
    {
     "name": "stdout",
     "output_type": "stream",
     "text": "['OSCAR_allen_Details_2019-10-08.2.xlsx', 'OSCAR_allen_Details_2019-10-08.3.csv', 'OSCAR_allen_Details_2019-10-24.csv', 'OSCAR_allen_Details_2019-10-24.xlsx', 'OSCAR_allen_Details_2019-10-24_labels.txt', 'Preferences.xml', 'Profiles', 'profiles.xml']\n"
    }
   ],
   "source": [
    "data_path = \"C:/Users/allen/Documents/OSCAR_Data-pulseox-data\"\n",
    "print(os.listdir(data_path))\n",
    "example = os.path.join(data_path, 'OSCAR_allen_Details_2019-10-24.csv')"
   ]
  },
  {
   "cell_type": "code",
   "execution_count": 43,
   "metadata": {},
   "outputs": [],
   "source": [
    "def day_to_df(path):\n",
    "    '''\n",
    "    @args:\n",
    "        path: os.path object representing path to OSCAR csv file to parse\n",
    "    @return:\n",
    "        return: tuple(sp02, pulse, start_time),\n",
    "        sp02 = pd.DataFrame of SP02 data\n",
    "        pulse = pd.DataFrame of Pulse data\n",
    "        start_time = UTC start time in s\n",
    "    '''\n",
    "    df = pd.read_csv(path)\n",
    "    time = df['Session'][0]\n",
    "    df = df.drop(columns='Session')\n",
    "    df['DateTime'] -= time # All times start from 0 for session\n",
    "    \n",
    "    sp02 = df[df['Event'] == 'SPO2']\n",
    "    sp02 = sp02.drop(columns='Event')\n",
    "    \n",
    "    pulse = df[df['Event'] == 'Pulse']\n",
    "    pulse = pulse.drop(columns='Event')\n",
    "\n",
    "    pulse = pulse.reset_index(drop=True)\n",
    "    sp02 = sp02.reset_index(drop=True)\n",
    "    return sp02, pulse, time"
   ]
  },
  {
   "cell_type": "code",
   "execution_count": 64,
   "metadata": {},
   "outputs": [],
   "source": [
    "sp02, pulse, start_time = day_to_df(example)\n",
    "# print(sp02.head(2))\n",
    "# print(pulse.head(2))\n",
    "# print(start_time)\n",
    "plt.clf()\n",
    "plt.plot(sp02['DateTime'].values, sp02['Data/Duration'].values)\n",
    "plt.plot(pulse['DateTime'].values, pulse['Data/Duration'].values)\n",
    "plt.xlim(20, 1000)\n",
    "plt.savefig(os.path.split(example)[-1] + '.png')\n",
    "# 74720 time units for 32 minutes\n"
   ]
  },
  {
   "cell_type": "code",
   "execution_count": 74,
   "metadata": {},
   "outputs": [],
   "source": [
    "# Performing FFT\n",
    "sp02_fft = np.zeros(np.max(sp02['DateTime'])+1)\n",
    "sp02_fft[sp02['DateTime']] = sp02['Data/Duration']\n",
    "\n",
    "plt.clf()\n",
    "plt.plot(np.arange(sp02_fft.shape[0]), sp02_fft)\n",
    "plt.xlim(20, 1000)\n",
    "plt.savefig('pre-fft.png')\n"
   ]
  },
  {
   "cell_type": "code",
   "execution_count": null,
   "metadata": {},
   "outputs": [],
   "source": []
  }
 ],
 "metadata": {
  "kernelspec": {
   "display_name": "Python 3",
   "language": "python",
   "name": "python3"
  },
  "language_info": {
   "codemirror_mode": {
    "name": "ipython",
    "version": 3
   },
   "file_extension": ".py",
   "mimetype": "text/x-python",
   "name": "python",
   "nbconvert_exporter": "python",
   "pygments_lexer": "ipython3",
   "version": "3.7.1"
  }
 },
 "nbformat": 4,
 "nbformat_minor": 2
}